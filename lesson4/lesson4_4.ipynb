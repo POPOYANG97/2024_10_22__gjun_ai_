{
 "cells": [
  {
   "cell_type": "code",
   "execution_count": 2,
   "metadata": {},
   "outputs": [
    {
     "name": "stdout",
     "output_type": "stream",
     "text": [
      "你的身高為:159\n",
      "你的體重是:46\n",
      "BMI是:18.20\n",
      "你體重過輕了\n"
     ]
    }
   ],
   "source": [
    "try:\n",
    "    height = eval(input('輸入您的身高:'))\n",
    "    weight = eval(input('輸入你的體重:'))\n",
    "    BMI = weight / ((height/100) ** 2)\n",
    "    print(f\"你的身高為:{height}\")\n",
    "    print(f\"你的體重是:{weight}\")\n",
    "    print(f\"BMI是:{BMI:.2f}\")\n",
    "    if BMI >= 35:\n",
    "        print(\"你重度肥胖囉\")\n",
    "    elif BMI >= 30:\n",
    "        print(\"你中度肥胖喔\")\n",
    "    elif BMI >= 27:\n",
    "        print(\"你輕度肥胖耶\")\n",
    "    elif BMI >= 24:\n",
    "        print(\"哎唷過重\")\n",
    "    elif BMI >= 18.5:\n",
    "        print(\"你是正常範圍\")\n",
    "    else:\n",
    "        print(\"你體重過輕了\")\n",
    "except SyntaxError:\n",
    "    print(\"輸入格式錯誤\")\n",
    "\n",
    "    print(\"結束程式\")\n"
   ]
  }
 ],
 "metadata": {
  "kernelspec": {
   "display_name": "Python 3",
   "language": "python",
   "name": "python3"
  },
  "language_info": {
   "codemirror_mode": {
    "name": "ipython",
    "version": 3
   },
   "file_extension": ".py",
   "mimetype": "text/x-python",
   "name": "python",
   "nbconvert_exporter": "python",
   "pygments_lexer": "ipython3",
   "version": "3.10.15"
  }
 },
 "nbformat": 4,
 "nbformat_minor": 2
}

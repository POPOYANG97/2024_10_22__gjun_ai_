{
 "cells": [
  {
   "cell_type": "code",
   "execution_count": 1,
   "metadata": {},
   "outputs": [
    {
     "ename": "SyntaxError",
     "evalue": "invalid decimal literal (<string>, line 1)",
     "output_type": "error",
     "traceback": [
      "Traceback \u001b[0;36m(most recent call last)\u001b[0m:\n",
      "\u001b[0m  File \u001b[1;32m~/.local/lib/python3.10/site-packages/IPython/core/interactiveshell.py:3577\u001b[0m in \u001b[1;35mrun_code\u001b[0m\n    exec(code_obj, self.user_global_ns, self.user_ns)\u001b[0m\n",
      "\u001b[0;36m  Cell \u001b[0;32mIn[1], line 5\u001b[0;36m\n\u001b[0;31m    scores = eval(input('請輸入學生分數(最高300分):'))\u001b[0;36m\n",
      "\u001b[0;36m  File \u001b[0;32m<string>:1\u001b[0;36m\u001b[0m\n\u001b[0;31m    250a\u001b[0m\n\u001b[0m      ^\u001b[0m\n\u001b[0;31mSyntaxError\u001b[0m\u001b[0;31m:\u001b[0m invalid decimal literal\n"
     ]
    }
   ],
   "source": [
    "#學生總分只有300分\n",
    "#如果分數超過300，就以300維準\n",
    "#有些學生可以加分5%\n",
    "#這裡用了兩個單項選擇\n",
    "scores = eval(input('請輸入學生分數(最高300分):'))\n",
    "if (scores > 300):\n",
    "    scores = 300\n",
    "is_add = input(\"學生是否符合加分條件(y,n)\")\n",
    "if is_add == 'y': #巢狀判斷_當有多個條件解決的時候\n",
    "    print(\"加分\")\n",
    "    scores *= 1.05\n",
    "    if scores > 300:\n",
    "        scores = 300\n",
    "\n",
    "print(f'學生的分數:{scores:.2f}')"
   ]
  },
  {
   "cell_type": "code",
   "execution_count": 2,
   "metadata": {},
   "outputs": [
    {
     "name": "stdout",
     "output_type": "stream",
     "text": [
      "發生錯誤\n"
     ]
    },
    {
     "ename": "NameError",
     "evalue": "name 'scores' is not defined",
     "output_type": "error",
     "traceback": [
      "\u001b[0;31m---------------------------------------------------------------------------\u001b[0m",
      "\u001b[0;31mNameError\u001b[0m                                 Traceback (most recent call last)",
      "Cell \u001b[0;32mIn[2], line 9\u001b[0m\n\u001b[1;32m      7\u001b[0m \u001b[38;5;28;01mexcept\u001b[39;00m:\n\u001b[1;32m      8\u001b[0m     \u001b[38;5;28mprint\u001b[39m(\u001b[38;5;124m\"\u001b[39m\u001b[38;5;124m發生錯誤\u001b[39m\u001b[38;5;124m\"\u001b[39m)\n\u001b[0;32m----> 9\u001b[0m \u001b[38;5;28;01mif\u001b[39;00m (\u001b[43mscores\u001b[49m \u001b[38;5;241m>\u001b[39m \u001b[38;5;241m300\u001b[39m):\n\u001b[1;32m     10\u001b[0m     scores \u001b[38;5;241m=\u001b[39m \u001b[38;5;241m300\u001b[39m\n\u001b[1;32m     11\u001b[0m is_add \u001b[38;5;241m=\u001b[39m \u001b[38;5;28minput\u001b[39m(\u001b[38;5;124m\"\u001b[39m\u001b[38;5;124m學生是否符合加分條件(y,n)\u001b[39m\u001b[38;5;124m\"\u001b[39m)\n",
      "\u001b[0;31mNameError\u001b[0m: name 'scores' is not defined"
     ]
    }
   ],
   "source": [
    "#學生總分只有300分\n",
    "#如果分數超過300，就以300維準\n",
    "#有些學生可以加分5%\n",
    "#這裡用了兩個單項選擇\n",
    "try:\n",
    "    scores = eval(input('請輸入學生分數(最高300分):'))\n",
    "except:\n",
    "    print(\"發生錯誤\")\n",
    "if (scores > 300):\n",
    "    scores = 300\n",
    "is_add = input(\"學生是否符合加分條件(y,n)\")\n",
    "if is_add == 'y': #巢狀判斷_當有多個條件解決的時候\n",
    "    print(\"加分\")\n",
    "    scores *= 1.05\n",
    "    if scores > 300:\n",
    "        scores = 300\n",
    "\n",
    "print(f'學生的分數:{scores:.2f}')"
   ]
  },
  {
   "cell_type": "code",
   "execution_count": 6,
   "metadata": {},
   "outputs": [
    {
     "name": "stdout",
     "output_type": "stream",
     "text": [
      "加分\n",
      "學生的分數:300.00\n"
     ]
    }
   ],
   "source": [
    "try:\n",
    "    scores = eval(input('請輸入學生分數(最高300分):'))\n",
    "except:\n",
    "    print(\"發生錯誤\")\n",
    "else:\n",
    "    if (scores > 300):\n",
    "      scores = 300\n",
    "    is_add = input(\"學生是否符合加分條件(y,n)\")\n",
    "    if is_add == 'y': #巢狀判斷_當有多個條件解決的時候\n",
    "      print(\"加分\")\n",
    "      scores *= 1.05\n",
    "      if scores > 300:\n",
    "        scores = 300\n",
    "      print(f'學生的分數:{scores:.2f}')"
   ]
  },
  {
   "cell_type": "code",
   "execution_count": 9,
   "metadata": {},
   "outputs": [
    {
     "name": "stdout",
     "output_type": "stream",
     "text": [
      "發生錯誤\n"
     ]
    }
   ],
   "source": [
    "#學生總分最高為300\n",
    "#如果分數超過300,就以300分為準\n",
    "#有些學生可以加分5%\n",
    "#第1種解決方法\n",
    "try:\n",
    "    scores = eval(input('請輸入學生分數(最高300分):'))\n",
    "except:\n",
    "    print(\"發生錯誤\")\n",
    "else:\n",
    "    if(scores > 300):\n",
    "        scores = 300\n",
    "    is_add = input(\"學生是否符合加分條件?(y,n)\")\n",
    "    if is_add == 'y': #巢狀判斷\n",
    "        scores *= 1.05\n",
    "        if scores > 300:\n",
    "            scores = 300\n",
    "    print(f\"學生的分數:{scores:.0f}\")"
   ]
  },
  {
   "cell_type": "code",
   "execution_count": 8,
   "metadata": {},
   "outputs": [
    {
     "name": "stdout",
     "output_type": "stream",
     "text": [
      "輸入格式錯誤\n",
      "程式結束\n"
     ]
    }
   ],
   "source": [
    "#學生總分最高為300\n",
    "#如果分數超過300,就以300分為準\n",
    "#有些學生可以加分5%\n",
    "#第2種解決方法\n",
    "try:\n",
    "    scores = eval(input('請輸入學生分數(最高300分):'))\n",
    "    if(scores > 300):\n",
    "        scores = 300\n",
    "    is_add = input(\"學生是否符合加分條件?(y,n)\")\n",
    "    if is_add == 'y': #巢狀判斷\n",
    "        scores *= 1.05\n",
    "        if scores > 300:\n",
    "            scores = 300\n",
    "    print(f\"學生的分數:{scores:.0f}\")\n",
    "except SyntaxError:\n",
    "    print(\"輸入格式錯誤\")\n",
    "except Exception:\n",
    "    print(\"不知明的錯誤\")\n",
    "\n",
    "\n",
    "print(\"程式結束\")    "
   ]
  }
 ],
 "metadata": {
  "kernelspec": {
   "display_name": "Python 3",
   "language": "python",
   "name": "python3"
  },
  "language_info": {
   "codemirror_mode": {
    "name": "ipython",
    "version": 3
   },
   "file_extension": ".py",
   "mimetype": "text/x-python",
   "name": "python",
   "nbconvert_exporter": "python",
   "pygments_lexer": "ipython3",
   "version": "3.10.15"
  }
 },
 "nbformat": 4,
 "nbformat_minor": 2
}

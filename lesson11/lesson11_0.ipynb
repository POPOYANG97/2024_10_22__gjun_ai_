{
 "cells": [
  {
   "cell_type": "code",
   "execution_count": null,
   "metadata": {},
   "outputs": [
    {
     "name": "stdout",
     "output_type": "stream",
     "text": [
      "姓名:朱士弘\n",
      "身高:182\n",
      "體重:99\n",
      "BMI:29.89\n",
      "狀態:您的體重:輕度肥胖\n",
      "===========================\n",
      "姓名:李彥伸\n",
      "身高:189\n",
      "體重:71\n",
      "BMI:19.88\n",
      "狀態:您的體重:正常範圍\n",
      "===========================\n",
      "姓名:李蓉瑞\n",
      "身高:164\n",
      "體重:106\n",
      "BMI:39.41\n",
      "狀態:您的體重:重度肥胖\n",
      "===========================\n"
     ]
    }
   ],
   "source": [
    "import tools #把程式簡化\n",
    "from tools import BMI\n",
    "if __name__ == '__main__':\n",
    "    nums = int(input('請輸入人數:'))\n",
    "    names:list[str] = tools.get_name(nums=nums)\n",
    "    students:list[BMI] = tools.generate_bmi(names=names)\n",
    "    for student in students:\n",
    "        print(f\"姓名:{student.name}\")\n",
    "        print(f\"身高:{student.height}\")\n",
    "        print(f\"體重:{student.weight}\")\n",
    "        print(f\"BMI:{student.get_bmi()}\")\n",
    "        print(f\"狀態:{student.get_status()}\")\n",
    "        print(\"===========================\")"
   ]
  }
 ],
 "metadata": {
  "kernelspec": {
   "display_name": "Python 3",
   "language": "python",
   "name": "python3"
  },
  "language_info": {
   "codemirror_mode": {
    "name": "ipython",
    "version": 3
   },
   "file_extension": ".py",
   "mimetype": "text/x-python",
   "name": "python",
   "nbconvert_exporter": "python",
   "pygments_lexer": "ipython3",
   "version": "3.10.15"
  }
 },
 "nbformat": 4,
 "nbformat_minor": 2
}

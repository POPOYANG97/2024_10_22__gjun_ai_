{
 "cells": [
  {
   "cell_type": "code",
   "execution_count": 3,
   "metadata": {},
   "outputs": [
    {
     "name": "stdout",
     "output_type": "stream",
     "text": [
      "姓名:cathy\n",
      "請輸入身高(cm):160\n",
      "請輸入體重(kg):50\n",
      "您的BMI值:19.53\n",
      "您的體重:正常範圍\n",
      "請問還要繼續嗎?y,n:y\n",
      "______________\n",
      "姓名:jonny\n",
      "請輸入身高(cm):180\n",
      "請輸入體重(kg):90\n",
      "您的BMI值:27.78\n",
      "您的體重:輕度肥胖\n",
      "請問還要繼續嗎?y,n:y\n",
      "______________\n",
      "輸入格式錯誤,請重新輸入\n",
      "===================\n",
      "姓名:hank\n",
      "請輸入身高(cm):175\n",
      "請輸入體重(kg):73\n",
      "您的BMI值:23.84\n",
      "您的體重:正常範圍\n",
      "請問還要繼續嗎?y,n:n\n",
      "______________\n",
      "應用程式結束\n"
     ]
    }
   ],
   "source": [
    "def game():\n",
    "    while(True):\n",
    "        try:\n",
    "            name = input(\"請輸入姓名:\")\n",
    "            height = eval(input(\"請輸入身高(cm):\"))\n",
    "            weight = eval(input(\"請輸入體重(kg):\"))\n",
    "            BMI = weight / ((height/100)**2)\n",
    "            print(f\"姓名:{name}\")\n",
    "            print(f\"請輸入身高(cm):{height}\")\n",
    "            print(f\"請輸入體重(kg):{weight}\")\n",
    "            print(f\"您的BMI值:{BMI:.2f}\")\n",
    "            if BMI >=35:\n",
    "               print(\"您的體重:重度肥胖\")\n",
    "            elif BMI >= 30:\n",
    "               print(\"您的體重:中度肥胖\")\n",
    "            elif BMI >= 27:\n",
    "               print(\"您的體重:輕度肥胖\")\n",
    "            elif BMI >= 24:\n",
    "               print(\"您的體重:過重\")\n",
    "            elif BMI >= 18.5:\n",
    "               print(\"您的體重:正常範圍\")\n",
    "            else:\n",
    "               print(\"您的體重:體重過輕\")\n",
    "            break\n",
    "        except Exception :\n",
    "            print(\"輸入格式錯誤,請重新輸入\")\n",
    "            print(\"===================\")\n",
    "            continue\n",
    "while(True):\n",
    "    game()\n",
    "    answer = input(\"請問還要繼續嗎?y,n\")\n",
    "    print(f\"請問還要繼續嗎?y,n:{answer}\")\n",
    "    print(\"______________\")\n",
    "    if answer.upper() == 'N':\n",
    "        break\n",
    "    if answer.upper() == 'Y':\n",
    "        continue\n",
    "print(\"應用程式結束\")"
   ]
  }
 ],
 "metadata": {
  "kernelspec": {
   "display_name": "Python 3",
   "language": "python",
   "name": "python3"
  },
  "language_info": {
   "codemirror_mode": {
    "name": "ipython",
    "version": 3
   },
   "file_extension": ".py",
   "mimetype": "text/x-python",
   "name": "python",
   "nbconvert_exporter": "python",
   "pygments_lexer": "ipython3",
   "version": "3.10.15"
  }
 },
 "nbformat": 4,
 "nbformat_minor": 2
}

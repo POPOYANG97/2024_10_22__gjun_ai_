{
 "cells": [
  {
   "cell_type": "markdown",
   "metadata": {},
   "source": [
    "BMI的計算\n",
    "請輸入姓名:xxxx\n",
    "請輸入身高(cm):xxxx\n",
    "請輸入體重(kg):xxxx\n",
    "xxx的BMI值:xxxx\n",
    "xxxx的體重:正常範圍\n",
    "您還要繼續嗎?(y繼續,n結束):y\n",
    "=========================\n",
    "BMI的計算\n",
    "請輸入姓名:xxxx\n",
    "請輸入身高(cm):xxxx\n",
    "請輸入體重(kg):xxxx\n",
    "xxx的BMI值:xxxx\n",
    "xxxx的體重:正常範圍\n",
    "您還要繼續嗎?(y繼續,n結束):y\n",
    "========================\n",
    "BMI的計算\n",
    "請輸入姓名:xxxx\n",
    "請輸入身高(cm):xxxx\n",
    "格式錯誤,請重新輸入\n",
    "======================\n",
    "BMI的計算\n",
    "請輸入姓名:xxxx\n",
    "請輸入身高(cm):xxxx\n",
    "請輸入體重(kg):xxxx\n",
    "xxx的BMI值:xxxx\n",
    "xxxx的體重:正常範圍\n",
    "您還要繼續嗎?(y繼續,n結束):n\n",
    "========================\n",
    "應用程式結束"
   ]
  },
  {
   "cell_type": "code",
   "execution_count": null,
   "metadata": {},
   "outputs": [
    {
     "name": "stdout",
     "output_type": "stream",
     "text": [
      "輸入格式錯誤,請重新輸入\n",
      "輸入格式錯誤,請重新輸入\n",
      "姓名:140\n",
      "請輸入身高(cm):160\n",
      "請輸入體重(kg):45\n",
      "您的BMI值:17.58\n",
      "您的體重:體重過輕\n",
      "姓名:56\n",
      "請輸入身高(cm):56\n",
      "請輸入體重(kg):56\n",
      "您的BMI值:178.57\n",
      "您的體重:重度肥胖\n",
      "輸入格式錯誤,請重新輸入\n",
      "輸入格式錯誤,請重新輸入\n",
      "輸入格式錯誤,請重新輸入\n",
      "輸入格式錯誤,請重新輸入\n",
      "輸入格式錯誤,請重新輸入\n"
     ]
    }
   ],
   "source": [
    "def game():\n",
    "    while(True):\n",
    "        try:\n",
    "            name = input(\"請輸入姓名:\")\n",
    "            height = eval(input(\"請輸入身高(cm):\"))\n",
    "            weight = eval(input(\"請輸入體重(kg):\"))\n",
    "            BMI = weight / ((height/100)**2)\n",
    "            print(f\"姓名:{name}\")\n",
    "            print(f\"請輸入身高(cm):{height}\")\n",
    "            print(f\"請輸入體重(kg):{weight}\")\n",
    "            print(f\"您的BMI值:{BMI:.2f}\")\n",
    "            if BMI >=35:\n",
    "               print(\"您的體重:重度肥胖\")\n",
    "            elif BMI >= 30:\n",
    "               print(\"您的體重:中度肥胖\")\n",
    "            elif BMI >= 27:\n",
    "               print(\"您的體重:輕度肥胖\")\n",
    "            elif BMI >= 24:\n",
    "               print(\"您的體重:過重\")\n",
    "            elif BMI >= 18.5:\n",
    "               print(\"您的體重:正常範圍\")\n",
    "            else:\n",
    "               print(\"您的體重:體重過輕\")\n",
    "        except Exception :\n",
    "            print(\"輸入格式錯誤,請重新輸入\")\n",
    "            print(\"===================\")\n",
    "            continue\n",
    "    \n",
    "while(True):\n",
    "    game()\n",
    "    answer = input(\"請問還要繼續嗎?y,n\")\n",
    "    print(f\"請問還要繼續嗎?y,n:{answer}\")\n",
    "    print(\"===================\")\n",
    "    if answer.upper() == 'N':\n",
    "        break\n",
    "    if answer.upper() == 'Y':\n",
    "        continue\n",
    "print(\"應用程式結束\")"
   ]
  }
 ],
 "metadata": {
  "kernelspec": {
   "display_name": "Python 3",
   "language": "python",
   "name": "python3"
  },
  "language_info": {
   "codemirror_mode": {
    "name": "ipython",
    "version": 3
   },
   "file_extension": ".py",
   "mimetype": "text/x-python",
   "name": "python",
   "nbconvert_exporter": "python",
   "pygments_lexer": "ipython3",
   "version": "3.10.15"
  }
 },
 "nbformat": 4,
 "nbformat_minor": 2
}

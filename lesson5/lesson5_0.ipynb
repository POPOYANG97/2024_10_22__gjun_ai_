{
 "cells": [
  {
   "cell_type": "code",
   "execution_count": null,
   "metadata": {},
   "outputs": [
    {
     "name": "stdout",
     "output_type": "stream",
     "text": [
      "格式錯誤\n"
     ]
    }
   ],
   "source": [
    "try:\n",
    "    height=eval(input(\"輸入身高(公分):\"))\n",
    "    kg=eval(input(\"請輸入體重(公斤):\"))\n",
    "    H=height/100\n",
    "    BMI=kg/H**2\n",
    "    print(f\"請輸入身高(cm):{height}\")\n",
    "    print(f\"請輸入體重(kg):{kg}\")\n",
    "    print(f\"您的BMI值:{BMI:.2f}\")\n",
    "    if BMI >=35:\n",
    "        print(\"您的體重:重度肥胖\")\n",
    "    elif BMI >= 30:\n",
    "        print(\"您的體重:中度肥胖\")\n",
    "    elif BMI >= 27:\n",
    "        print(\"您的體重:輕度肥胖\")\n",
    "    elif BMI >= 24:\n",
    "        print(\"您的體重:過重\")\n",
    "    elif BMI >= 18.5:\n",
    "        print(\"您的體重:正常範圍\")\n",
    "    else:\n",
    "        print(\"您的體重:體重過輕\")\n",
    "except Exception:\n",
    "    print(\"格式錯誤\")"
   ]
  },
  {
   "cell_type": "code",
   "execution_count": null,
   "metadata": {},
   "outputs": [
    {
     "name": "stdout",
     "output_type": "stream",
     "text": [
      "獎金:1000\n"
     ]
    }
   ],
   "source": [
    "chinese = int(input('請輸入國文分數'))\n",
    "math = int(input('請輸入數學分數'))\n",
    "#槽狀判斷\n",
    "if chinese == 100:\n",
    "    if math == 100:\n",
    "        bonus = 1000\n",
    "    else:\n",
    "        bonus = 500\n",
    "elif math == 100:\n",
    "    bonus = 500\n",
    "else:\n",
    "    bonus = 0\n",
    "\n",
    "print(f'獎金:{bonus}')\n"
   ]
  },
  {
   "cell_type": "code",
   "execution_count": null,
   "metadata": {},
   "outputs": [],
   "source": [
    "age = 17\n",
    "\n",
    "if age >= 18:\n",
    "    print('可以考駕照')\n",
    "else:\n",
    "    print('不可以考駕照')"
   ]
  },
  {
   "cell_type": "code",
   "execution_count": null,
   "metadata": {},
   "outputs": [
    {
     "name": "stdout",
     "output_type": "stream",
     "text": [
      "不可以考駕照\n"
     ]
    }
   ],
   "source": [
    "age = 17\n",
    "#not功能,True和False程式區塊對調\n",
    "if not age >= 18:\n",
    "    print('不可以考駕照')\n",
    "else:\n",
    "    print('可以考駕照')\n"
   ]
  },
  {
   "cell_type": "code",
   "execution_count": 5,
   "metadata": {},
   "outputs": [
    {
     "name": "stdout",
     "output_type": "stream",
     "text": [
      "獎金:1000\n"
     ]
    }
   ],
   "source": [
    "chinese = int(input('請輸入國文分數'))\n",
    "math = int(input('請輸入數學分數'))\n",
    "#邏輯判斷 嚴格的一定要寫上面\n",
    "if chinese == 100 and math == 100:\n",
    "    bonus = 1000\n",
    "elif chinese == 100 or math == 100:\n",
    "    bonus = 500\n",
    "else:\n",
    "    bonus = 0\n",
    "\n",
    "print(f'獎金:{bonus}')"
   ]
  },
  {
   "cell_type": "code",
   "execution_count": 9,
   "metadata": {},
   "outputs": [
    {
     "name": "stdout",
     "output_type": "stream",
     "text": [
      "正常\n"
     ]
    }
   ],
   "source": [
    "press = int(input(\"請輸入血壓值\"))\n",
    "if press >= 90 and press <= 120:\n",
    "    print('正常')\n",
    "else:\n",
    "    print('不正常')"
   ]
  },
  {
   "cell_type": "code",
   "execution_count": 7,
   "metadata": {},
   "outputs": [
    {
     "name": "stdout",
     "output_type": "stream",
     "text": [
      "不正常\n"
     ]
    }
   ],
   "source": [
    "press = int(input(\"請輸入血壓值\"))\n",
    "if 90 <= press <= 120:\n",
    "    print('正常')\n",
    "else:\n",
    "    print('不正常')"
   ]
  }
 ],
 "metadata": {
  "kernelspec": {
   "display_name": "Python 3",
   "language": "python",
   "name": "python3"
  },
  "language_info": {
   "codemirror_mode": {
    "name": "ipython",
    "version": 3
   },
   "file_extension": ".py",
   "mimetype": "text/x-python",
   "name": "python",
   "nbconvert_exporter": "python",
   "pygments_lexer": "ipython3",
   "version": "3.10.15"
  }
 },
 "nbformat": 4,
 "nbformat_minor": 2
}

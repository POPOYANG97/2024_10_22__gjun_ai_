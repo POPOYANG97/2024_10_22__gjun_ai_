{
 "cells": [
  {
   "cell_type": "code",
   "execution_count": null,
   "metadata": {},
   "outputs": [],
   "source": [
    "import pandas as pd\n",
    "df = pd.read_csv('world.csv')\n",
    "df1 = df[['洲名','國家','日期','總確診數','新增確診數','總人口數','解封指數']]\n",
    "df1"
   ]
  },
  {
   "cell_type": "code",
   "execution_count": null,
   "metadata": {},
   "outputs": [],
   "source": [
    "#透過值的選取\n",
    "df2 = df1.iloc[256:275]\n",
    "df2['新增確診數']>200\n",
    "df2[df2['新增確診數']>200]"
   ]
  },
  {
   "cell_type": "code",
   "execution_count": null,
   "metadata": {},
   "outputs": [],
   "source": [
    "df2 = df1.iloc[256:275]\n",
    "s1 = df2['新增確診數']>200\n",
    "df2[s1]"
   ]
  },
  {
   "cell_type": "code",
   "execution_count": null,
   "metadata": {},
   "outputs": [],
   "source": [
    "#資料庫的篩選\n",
    "taiwan = df1[df1['國家']=='台灣']#字串要用==做比較\n",
    "taiwan"
   ]
  },
  {
   "cell_type": "code",
   "execution_count": 10,
   "metadata": {},
   "outputs": [
    {
     "ename": "ValueError",
     "evalue": "The truth value of a Series is ambiguous. Use a.empty, a.bool(), a.item(), a.any() or a.all().",
     "output_type": "error",
     "traceback": [
      "\u001b[0;31m---------------------------------------------------------------------------\u001b[0m",
      "\u001b[0;31mValueError\u001b[0m                                Traceback (most recent call last)",
      "\u001b[0;32m/tmp/ipykernel_46916/46156766.py\u001b[0m in \u001b[0;36m?\u001b[0;34m()\u001b[0m\n\u001b[0;32m----> 1\u001b[0;31m \u001b[0mtaiwan\u001b[0m\u001b[0;34m[\u001b[0m\u001b[0;34m'日期'\u001b[0m\u001b[0;34m]\u001b[0m \u001b[0;34m>=\u001b[0m \u001b[0;34m'2020-01-16'\u001b[0m \u001b[0;32mand\u001b[0m \u001b[0mtaiwan\u001b[0m\u001b[0;34m[\u001b[0m\u001b[0;34m'日期'\u001b[0m\u001b[0;34m]\u001b[0m \u001b[0;34m<=\u001b[0m \u001b[0;34m'2020-12-31'\u001b[0m\u001b[0;34m\u001b[0m\u001b[0;34m\u001b[0m\u001b[0m\n\u001b[0m",
      "\u001b[0;32m~/.local/lib/python3.10/site-packages/pandas/core/generic.py\u001b[0m in \u001b[0;36m?\u001b[0;34m(self)\u001b[0m\n\u001b[1;32m   1575\u001b[0m     \u001b[0;34m@\u001b[0m\u001b[0mfinal\u001b[0m\u001b[0;34m\u001b[0m\u001b[0;34m\u001b[0m\u001b[0m\n\u001b[1;32m   1576\u001b[0m     \u001b[0;32mdef\u001b[0m \u001b[0m__nonzero__\u001b[0m\u001b[0;34m(\u001b[0m\u001b[0mself\u001b[0m\u001b[0;34m)\u001b[0m \u001b[0;34m->\u001b[0m \u001b[0mNoReturn\u001b[0m\u001b[0;34m:\u001b[0m\u001b[0;34m\u001b[0m\u001b[0;34m\u001b[0m\u001b[0m\n\u001b[0;32m-> 1577\u001b[0;31m         raise ValueError(\n\u001b[0m\u001b[1;32m   1578\u001b[0m             \u001b[0;34mf\"The truth value of a {type(self).__name__} is ambiguous. \"\u001b[0m\u001b[0;34m\u001b[0m\u001b[0;34m\u001b[0m\u001b[0m\n\u001b[1;32m   1579\u001b[0m             \u001b[0;34m\"Use a.empty, a.bool(), a.item(), a.any() or a.all().\"\u001b[0m\u001b[0;34m\u001b[0m\u001b[0;34m\u001b[0m\u001b[0m\n\u001b[1;32m   1580\u001b[0m         )\n",
      "\u001b[0;31mValueError\u001b[0m: The truth value of a Series is ambiguous. Use a.empty, a.bool(), a.item(), a.any() or a.all()."
     ]
    }
   ],
   "source": [
    "taiwan['日期'] >= '2020-01-16' and taiwan['日期'] <= '2020-12-31'"
   ]
  },
  {
   "cell_type": "code",
   "execution_count": 12,
   "metadata": {},
   "outputs": [
    {
     "data": {
      "text/plain": [
       "163986     True\n",
       "163987     True\n",
       "163988     True\n",
       "163989     True\n",
       "163990     True\n",
       "          ...  \n",
       "164884    False\n",
       "164885    False\n",
       "164886    False\n",
       "164887    False\n",
       "164888    False\n",
       "Name: 日期, Length: 903, dtype: bool"
      ]
     },
     "execution_count": 12,
     "metadata": {},
     "output_type": "execute_result"
    }
   ],
   "source": [
    "(taiwan['日期'] >= '2020-01-16') & (taiwan['日期'] <= '2020-12-31')"
   ]
  },
  {
   "cell_type": "code",
   "execution_count": 13,
   "metadata": {},
   "outputs": [
    {
     "data": {
      "text/html": [
       "<div>\n",
       "<style scoped>\n",
       "    .dataframe tbody tr th:only-of-type {\n",
       "        vertical-align: middle;\n",
       "    }\n",
       "\n",
       "    .dataframe tbody tr th {\n",
       "        vertical-align: top;\n",
       "    }\n",
       "\n",
       "    .dataframe thead th {\n",
       "        text-align: right;\n",
       "    }\n",
       "</style>\n",
       "<table border=\"1\" class=\"dataframe\">\n",
       "  <thead>\n",
       "    <tr style=\"text-align: right;\">\n",
       "      <th></th>\n",
       "      <th>洲名</th>\n",
       "      <th>國家</th>\n",
       "      <th>日期</th>\n",
       "      <th>總確診數</th>\n",
       "      <th>新增確診數</th>\n",
       "      <th>總人口數</th>\n",
       "      <th>解封指數</th>\n",
       "    </tr>\n",
       "  </thead>\n",
       "  <tbody>\n",
       "    <tr>\n",
       "      <th>163986</th>\n",
       "      <td>亞洲</td>\n",
       "      <td>台灣</td>\n",
       "      <td>2020-01-16</td>\n",
       "      <td>0</td>\n",
       "      <td>0</td>\n",
       "      <td>23855008</td>\n",
       "      <td>99999.00</td>\n",
       "    </tr>\n",
       "    <tr>\n",
       "      <th>163987</th>\n",
       "      <td>亞洲</td>\n",
       "      <td>台灣</td>\n",
       "      <td>2020-01-17</td>\n",
       "      <td>0</td>\n",
       "      <td>0</td>\n",
       "      <td>23855008</td>\n",
       "      <td>99999.00</td>\n",
       "    </tr>\n",
       "    <tr>\n",
       "      <th>163988</th>\n",
       "      <td>亞洲</td>\n",
       "      <td>台灣</td>\n",
       "      <td>2020-01-18</td>\n",
       "      <td>0</td>\n",
       "      <td>0</td>\n",
       "      <td>23855008</td>\n",
       "      <td>99999.00</td>\n",
       "    </tr>\n",
       "    <tr>\n",
       "      <th>163989</th>\n",
       "      <td>亞洲</td>\n",
       "      <td>台灣</td>\n",
       "      <td>2020-01-19</td>\n",
       "      <td>0</td>\n",
       "      <td>0</td>\n",
       "      <td>23855008</td>\n",
       "      <td>99999.00</td>\n",
       "    </tr>\n",
       "    <tr>\n",
       "      <th>163990</th>\n",
       "      <td>亞洲</td>\n",
       "      <td>台灣</td>\n",
       "      <td>2020-01-20</td>\n",
       "      <td>0</td>\n",
       "      <td>0</td>\n",
       "      <td>23855008</td>\n",
       "      <td>99999.00</td>\n",
       "    </tr>\n",
       "    <tr>\n",
       "      <th>...</th>\n",
       "      <td>...</td>\n",
       "      <td>...</td>\n",
       "      <td>...</td>\n",
       "      <td>...</td>\n",
       "      <td>...</td>\n",
       "      <td>...</td>\n",
       "      <td>...</td>\n",
       "    </tr>\n",
       "    <tr>\n",
       "      <th>164332</th>\n",
       "      <td>亞洲</td>\n",
       "      <td>台灣</td>\n",
       "      <td>2020-12-27</td>\n",
       "      <td>785</td>\n",
       "      <td>2</td>\n",
       "      <td>23855008</td>\n",
       "      <td>0.21</td>\n",
       "    </tr>\n",
       "    <tr>\n",
       "      <th>164333</th>\n",
       "      <td>亞洲</td>\n",
       "      <td>台灣</td>\n",
       "      <td>2020-12-28</td>\n",
       "      <td>793</td>\n",
       "      <td>8</td>\n",
       "      <td>23855008</td>\n",
       "      <td>0.22</td>\n",
       "    </tr>\n",
       "    <tr>\n",
       "      <th>164334</th>\n",
       "      <td>亞洲</td>\n",
       "      <td>台灣</td>\n",
       "      <td>2020-12-29</td>\n",
       "      <td>795</td>\n",
       "      <td>2</td>\n",
       "      <td>23855008</td>\n",
       "      <td>0.21</td>\n",
       "    </tr>\n",
       "    <tr>\n",
       "      <th>164335</th>\n",
       "      <td>亞洲</td>\n",
       "      <td>台灣</td>\n",
       "      <td>2020-12-30</td>\n",
       "      <td>797</td>\n",
       "      <td>2</td>\n",
       "      <td>23855008</td>\n",
       "      <td>0.21</td>\n",
       "    </tr>\n",
       "    <tr>\n",
       "      <th>164336</th>\n",
       "      <td>亞洲</td>\n",
       "      <td>台灣</td>\n",
       "      <td>2020-12-31</td>\n",
       "      <td>799</td>\n",
       "      <td>2</td>\n",
       "      <td>23855008</td>\n",
       "      <td>0.20</td>\n",
       "    </tr>\n",
       "  </tbody>\n",
       "</table>\n",
       "<p>351 rows × 7 columns</p>\n",
       "</div>"
      ],
      "text/plain": [
       "        洲名  國家          日期  總確診數  新增確診數      總人口數      解封指數\n",
       "163986  亞洲  台灣  2020-01-16     0      0  23855008  99999.00\n",
       "163987  亞洲  台灣  2020-01-17     0      0  23855008  99999.00\n",
       "163988  亞洲  台灣  2020-01-18     0      0  23855008  99999.00\n",
       "163989  亞洲  台灣  2020-01-19     0      0  23855008  99999.00\n",
       "163990  亞洲  台灣  2020-01-20     0      0  23855008  99999.00\n",
       "...     ..  ..         ...   ...    ...       ...       ...\n",
       "164332  亞洲  台灣  2020-12-27   785      2  23855008      0.21\n",
       "164333  亞洲  台灣  2020-12-28   793      8  23855008      0.22\n",
       "164334  亞洲  台灣  2020-12-29   795      2  23855008      0.21\n",
       "164335  亞洲  台灣  2020-12-30   797      2  23855008      0.21\n",
       "164336  亞洲  台灣  2020-12-31   799      2  23855008      0.20\n",
       "\n",
       "[351 rows x 7 columns]"
      ]
     },
     "execution_count": 13,
     "metadata": {},
     "output_type": "execute_result"
    }
   ],
   "source": [
    "#用bool的series來選取資料\n",
    "_2021_s1 = (taiwan['日期'] >= '2020-01-16') & (taiwan['日期'] <= '2020-12-31')\n",
    "taiwan[_2021_s1]"
   ]
  }
 ],
 "metadata": {
  "kernelspec": {
   "display_name": "Python 3",
   "language": "python",
   "name": "python3"
  },
  "language_info": {
   "codemirror_mode": {
    "name": "ipython",
    "version": 3
   },
   "file_extension": ".py",
   "mimetype": "text/x-python",
   "name": "python",
   "nbconvert_exporter": "python",
   "pygments_lexer": "ipython3",
   "version": "3.10.15"
  }
 },
 "nbformat": 4,
 "nbformat_minor": 2
}

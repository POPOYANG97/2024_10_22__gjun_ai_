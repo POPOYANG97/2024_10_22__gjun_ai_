{
 "cells": [
  {
   "cell_type": "code",
   "execution_count": 5,
   "metadata": {},
   "outputs": [
    {
     "name": "stdout",
     "output_type": "stream",
     "text": [
      "蔡欣汝\n",
      "尚偉倫\n",
      "林義皓\n",
      "馬彥文\n",
      "黃嘉琪\n"
     ]
    }
   ],
   "source": [
    "import random\n",
    "def get_names(nums:int=2)->list[str]:\n",
    "    with open('names.txt',encoding='utf-8',mode='r') as file:\n",
    "        names_str = file.read()\n",
    "    names:list[str] = names_str.split(sep='\\n')\n",
    "    names = random.choices(names,k=nums)\n",
    "    return names\n",
    "\n",
    "nums = int(input('請輸入學生數量(最多十位):'))\n",
    "student_names:list[str] = get_names(nums=nums)\n",
    "for name in student_names:\n",
    "    print(name)"
   ]
  },
  {
   "cell_type": "code",
   "execution_count": 6,
   "metadata": {},
   "outputs": [],
   "source": [
    "def generate_students(names:list[str]) -> list[dict]:\n",
    "    students:list[dict] = []\n",
    "    for name in names:\n",
    "        chinese = random.randint(50, 100)\n",
    "        english = random.randint(50, 100)\n",
    "        math = random.randint(50, 100)\n",
    "        student = {'name':name,'chinese':chinese,'english':english,'math':math}\n",
    "        students.append(student)\n",
    "    return students"
   ]
  },
  {
   "cell_type": "code",
   "execution_count": 7,
   "metadata": {},
   "outputs": [
    {
     "data": {
      "text/plain": [
       "[{'name': '蔡欣汝', 'chinese': 55, 'english': 68, 'math': 90},\n",
       " {'name': '尚偉倫', 'chinese': 77, 'english': 52, 'math': 90},\n",
       " {'name': '林義皓', 'chinese': 80, 'english': 79, 'math': 57},\n",
       " {'name': '馬彥文', 'chinese': 99, 'english': 77, 'math': 81},\n",
       " {'name': '黃嘉琪', 'chinese': 69, 'english': 83, 'math': 60}]"
      ]
     },
     "execution_count": 7,
     "metadata": {},
     "output_type": "execute_result"
    }
   ],
   "source": [
    "students = generate_students(names=student_names)\n",
    "students"
   ]
  }
 ],
 "metadata": {
  "kernelspec": {
   "display_name": "Python 3",
   "language": "python",
   "name": "python3"
  },
  "language_info": {
   "codemirror_mode": {
    "name": "ipython",
    "version": 3
   },
   "file_extension": ".py",
   "mimetype": "text/x-python",
   "name": "python",
   "nbconvert_exporter": "python",
   "pygments_lexer": "ipython3",
   "version": "3.10.15"
  }
 },
 "nbformat": 4,
 "nbformat_minor": 2
}
